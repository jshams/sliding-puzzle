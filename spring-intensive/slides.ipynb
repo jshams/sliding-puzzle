{
 "cells": [
  {
   "cell_type": "markdown",
   "metadata": {
    "slideshow": {
     "slide_type": "slide"
    }
   },
   "source": [
    "# Sliding Puzzle Solver\n",
    "\n",
    "<img src=\"https://oculusz-online.com/wp-content/uploads/2018/09/1537949833_323_s-l1600.jpg\" style=\"width: 30%; display: block; margin: auto\"/>\n",
    "\n",
    "#### By: Jake Shams"
   ]
  },
  {
   "cell_type": "markdown",
   "metadata": {
    "slideshow": {
     "slide_type": "subslide"
    }
   },
   "source": [
    "### What is Sliding Puzzle Solver?\n",
    "**Sliding Puzzle is an online playable sliding puzzle game. You can play by clicking on the tiles or using your keyboard keys. If you get stuck there is also an AI button that you can click and watch as the computer solves the puzzle.**"
   ]
  },
  {
   "cell_type": "markdown",
   "metadata": {
    "slideshow": {
     "slide_type": "slide"
    }
   },
   "source": [
    "## The beginning\n",
    "\n",
    "**Sliding Puzzle began as an alogrithm that could solve sliding puzzles with no user interface:**\n",
    "\n",
    "<img height=\"200\" src=\"https://media.giphy.com/media/WrrRcSaOmmpOAf5jSw/giphy.gif\"/>"
   ]
  },
  {
   "cell_type": "markdown",
   "metadata": {
    "slideshow": {
     "slide_type": "subslide"
    }
   },
   "source": [
    "## Creating the interface\n",
    "**A working sliding puzzle visual with the ability to click on tiles and move them. The user is also alerted when they solve the puzzle.**\n",
    "\n",
    "<img height=\"200\" src=\"https://media.giphy.com/media/Kc2BimDt39cKYV89wu/giphy.gif\"/>"
   ]
  },
  {
   "cell_type": "markdown",
   "metadata": {
    "slideshow": {
     "slide_type": "subslide"
    }
   },
   "source": [
    "## This is Sliding Puzzle\n",
    "**The AI is implemented into the frontend and users can watch the puzzle practically _solve_ itself. There are also some other added features like undo and shuffle that can be controlled with on-screen buttons or using you keyboard.**\n",
    "\n",
    "<img height=\"200\" src=\"https://media.giphy.com/media/Rki0Obx78hOMNZeqzf/giphy.gif\"/>"
   ]
  },
  {
   "cell_type": "markdown",
   "metadata": {
    "slideshow": {
     "slide_type": "slide"
    }
   },
   "source": [
    "## Pre-intensive goals\n",
    "\n",
    "#### 1 - Refactor the codebase\n",
    "\n",
    "#### 2 - Create an algorithm to solve 4x4\n",
    "\n",
    "#### 3 - Create an algorithm to solve 5x5 and maybe even 6x6\n",
    "\n",
    "#### 4 - Add a shell window that displays what's happening in the *code*."
   ]
  },
  {
   "cell_type": "markdown",
   "metadata": {
    "slideshow": {
     "slide_type": "slide"
    }
   },
   "source": [
    "## What's new in Sliding Puzzle?\n",
    "\n",
    "#### 1 - The code was refactored so it can be maintained more easily.\n",
    "\n",
    "#### 2 - The AI can solve 4x4 boards\n",
    "\n",
    "#### 3 - The AI can solve 5x5 boards\n",
    "\n",
    "#### 4 - The AI can solve 6x6 boards"
   ]
  },
  {
   "cell_type": "markdown",
   "metadata": {
    "slideshow": {
     "slide_type": "slide"
    }
   },
   "source": [
    "## What makes larger boards so much more difficult?\n",
    "\n",
    "<img height=\"200\" src=\"https://media.giphy.com/media/WRp7znNHPT3LRIn12u/giphy.gif\"/>"
   ]
  },
  {
   "cell_type": "markdown",
   "metadata": {
    "slideshow": {
     "slide_type": "subslide"
    }
   },
   "source": [
    "## What makes larger boards so much more difficult?\n",
    "\n",
    "- A 2x2 board only has 12 achievable states\n",
    "\n",
    "\n",
    "- A 3x3 board has 181,440 achievable states\n",
    "\n",
    "\n",
    "- A 4x4 board has 10,461,394,944,000 achievable states\n",
    "\n",
    "\n",
    "- 5x5 - 7,755,605,021,665,492,992,000,000\n",
    "\n",
    "\n",
    "- 6x6 - 185,996,663,394,950,608,733,999,724,075,417,600,000,000\n",
    "\n",
    "#### And there is only one state that is solved"
   ]
  },
  {
   "cell_type": "markdown",
   "metadata": {
    "slideshow": {
     "slide_type": "slide"
    }
   },
   "source": [
    "## How does the solver work?\n",
    "\n",
    "It works by creating a *game tree* of all possible moves and going down each path until it finds the fastest path that leads to a solution.\n",
    "- Works for 2x2 and 3x3.\n",
    "\n",
    "<img height=\"200\" src=\"https://media.geeksforgeeks.org/wp-content/uploads/TIC_TAC.jpg\" />"
   ]
  },
  {
   "cell_type": "markdown",
   "metadata": {
    "slideshow": {
     "slide_type": "subslide"
    }
   },
   "source": [
    "## How is it improved?\n",
    "Using the A* method, we can guide the game tree to follow branches that are more probable to give us good results.\n",
    "- works for 4x4\n",
    "<img height=\"200\" src=\"https://media.geeksforgeeks.org/wp-content/uploads/exampleFigure-1.png\">"
   ]
  },
  {
   "cell_type": "markdown",
   "metadata": {
    "slideshow": {
     "slide_type": "subslide"
    }
   },
   "source": [
    "## How can it further be improved?\n",
    "By taking baby steps. Recursively solve just a row or column of the puzzle to *shrink* it, thus making it less complex.\n",
    "<img src=\"https://i.ibb.co/S33ZGmz/Screen-Shot-2020-05-07-at-1-48-13-PM.png\" height=\"200\"/>"
   ]
  },
  {
   "cell_type": "markdown",
   "metadata": {
    "slideshow": {
     "slide_type": "slide"
    }
   },
   "source": [
    "## [See it live!](https://jshams.github.io/sliding-puzzle/frontend)\n"
   ]
  }
 ],
 "metadata": {
  "celltoolbar": "Slideshow",
  "kernelspec": {
   "display_name": "Python 3",
   "language": "python",
   "name": "python3"
  },
  "language_info": {
   "codemirror_mode": {
    "name": "ipython",
    "version": 3
   },
   "file_extension": ".py",
   "mimetype": "text/x-python",
   "name": "python",
   "nbconvert_exporter": "python",
   "pygments_lexer": "ipython3",
   "version": "3.7.4"
  }
 },
 "nbformat": 4,
 "nbformat_minor": 2
}
